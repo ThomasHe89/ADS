{
 "cells": [
  {
   "cell_type": "markdown",
   "metadata": {},
   "source": [
    "# Homework 3\n"
   ]
  },
  {
   "cell_type": "markdown",
   "metadata": {},
   "source": [
    "### Problem 1 (5% credit). \n",
    "Consider a multivariate regression of the output variable y over the 3\n",
    "regressors regressors x_1, x_2, x_3, with the observations from the file stored under the following link:\n",
    "https://serv.cusp.nyu.edu/files/ADS-2015/MorningSection/homework3/H31.csv\n",
    "(also see below)\n",
    "Which one of the regressors is a dummy variable corresponding to an intercept term?"
   ]
  },
  {
   "cell_type": "code",
   "execution_count": 289,
   "metadata": {
    "collapsed": false
   },
   "outputs": [
    {
     "name": "stdout",
     "output_type": "stream",
     "text": [
      "Populating the interactive namespace from numpy and matplotlib\n"
     ]
    },
    {
     "data": {
      "text/html": [
       "<div>\n",
       "<table border=\"1\" class=\"dataframe\">\n",
       "  <thead>\n",
       "    <tr style=\"text-align: right;\">\n",
       "      <th></th>\n",
       "      <th>y</th>\n",
       "      <th>x1</th>\n",
       "      <th>x2</th>\n",
       "      <th>x3</th>\n",
       "    </tr>\n",
       "  </thead>\n",
       "  <tbody>\n",
       "    <tr>\n",
       "      <th>1</th>\n",
       "      <td>0</td>\n",
       "      <td>1</td>\n",
       "      <td>-2</td>\n",
       "      <td>1</td>\n",
       "    </tr>\n",
       "    <tr>\n",
       "      <th>2</th>\n",
       "      <td>2</td>\n",
       "      <td>1</td>\n",
       "      <td>-1</td>\n",
       "      <td>-1</td>\n",
       "    </tr>\n",
       "    <tr>\n",
       "      <th>3</th>\n",
       "      <td>2</td>\n",
       "      <td>1</td>\n",
       "      <td>0</td>\n",
       "      <td>0</td>\n",
       "    </tr>\n",
       "    <tr>\n",
       "      <th>4</th>\n",
       "      <td>3</td>\n",
       "      <td>1</td>\n",
       "      <td>1</td>\n",
       "      <td>-1</td>\n",
       "    </tr>\n",
       "    <tr>\n",
       "      <th>5</th>\n",
       "      <td>3</td>\n",
       "      <td>1</td>\n",
       "      <td>2</td>\n",
       "      <td>1</td>\n",
       "    </tr>\n",
       "  </tbody>\n",
       "</table>\n",
       "</div>"
      ],
      "text/plain": [
       "   y  x1  x2  x3\n",
       "1  0   1  -2   1\n",
       "2  2   1  -1  -1\n",
       "3  2   1   0   0\n",
       "4  3   1   1  -1\n",
       "5  3   1   2   1"
      ]
     },
     "execution_count": 289,
     "metadata": {},
     "output_type": "execute_result"
    }
   ],
   "source": [
    "import numpy as np\n",
    "from numpy import random, linalg, ones\n",
    "from scipy import stats\n",
    "import matplotlib.pyplot as plt\n",
    "%pylab inline\n",
    "import pandas as pd\n",
    "import statsmodels.formula.api as smf\n",
    "import urllib\n",
    "from __future__ import division\n",
    "\n",
    "data=pd.read_csv('https://serv.cusp.nyu.edu/files/ADS-2015/MorningSection/homework3/H31.csv', index_col=0)\n",
    "data.head()"
   ]
  },
  {
   "cell_type": "markdown",
   "metadata": {},
   "source": [
    "ANSWER: The dummy variable is x1 (as it equals 1 for all data points)."
   ]
  },
  {
   "cell_type": "markdown",
   "metadata": {},
   "source": [
    "### Problem 2 (15% credit). \n",
    "For the data from the problem 1 perform a manual estimate for the least-square multivariate regression coefficients  (not using regression tools, but using appropriate matrix operations and formula (3) from the session notebook)."
   ]
  },
  {
   "cell_type": "code",
   "execution_count": 290,
   "metadata": {
    "collapsed": false
   },
   "outputs": [
    {
     "name": "stdout",
     "output_type": "stream",
     "text": [
      "[[ 2. ]\n",
      " [ 0.7]\n",
      " [-0.5]]\n"
     ]
    }
   ],
   "source": [
    "X=np.matrix(pd.DataFrame({'intercept':data.x1,'x2':data.x2,'x3':data.x3}))\n",
    "Y=np.matrix(data.y).transpose()\n",
    "w=pow((X.transpose()*X),(-1))*X.transpose()*Y\n",
    "print(w)"
   ]
  },
  {
   "cell_type": "markdown",
   "metadata": {},
   "source": [
    "Now, I'm just using regression tools to check my results."
   ]
  },
  {
   "cell_type": "code",
   "execution_count": 291,
   "metadata": {
    "collapsed": false
   },
   "outputs": [
    {
     "name": "stdout",
     "output_type": "stream",
     "text": [
      "                            OLS Regression Results                            \n",
      "==============================================================================\n",
      "Dep. Variable:                      y   R-squared:                       0.983\n",
      "Model:                            OLS   Adj. R-squared:                  0.967\n",
      "Method:                 Least Squares   F-statistic:                     59.00\n",
      "Date:                Mon, 05 Oct 2015   Prob (F-statistic):             0.0167\n",
      "Time:                        03:39:28   Log-Likelihood:                 2.6854\n",
      "No. Observations:                   5   AIC:                            0.6293\n",
      "Df Residuals:                       2   BIC:                           -0.5424\n",
      "Df Model:                           2                                         \n",
      "Covariance Type:            nonrobust                                         \n",
      "==============================================================================\n",
      "                 coef    std err          t      P>|t|      [95.0% Conf. Int.]\n",
      "------------------------------------------------------------------------------\n",
      "Intercept      2.0000      0.100     20.000      0.002         1.570     2.430\n",
      "x2             0.7000      0.071      9.899      0.010         0.396     1.004\n",
      "x3            -0.5000      0.112     -4.472      0.047        -0.981    -0.019\n",
      "==============================================================================\n",
      "Omnibus:                          nan   Durbin-Watson:                   2.600\n",
      "Prob(Omnibus):                    nan   Jarque-Bera (JB):                0.352\n",
      "Skew:                          -0.000   Prob(JB):                        0.839\n",
      "Kurtosis:                       1.700   Cond. No.                         1.58\n",
      "==============================================================================\n",
      "\n",
      "Warnings:\n",
      "[1] Standard Errors assume that the covariance matrix of the errors is correctly specified.\n"
     ]
    }
   ],
   "source": [
    "lm3 = smf.ols(formula='y ~ x2+x3', data = data).fit()\n",
    "print(lm3.summary())"
   ]
  },
  {
   "cell_type": "markdown",
   "metadata": {},
   "source": [
    "We get the same results!"
   ]
  },
  {
   "cell_type": "markdown",
   "metadata": {},
   "source": [
    "## Problem 3 (15% of credit)\n",
    "Prove that regressors x1,x2,x3 are mutually ortogonal. Perform an estimate for regression coefficients using uni-variate regressions formulas. Compare with the results of problem 2."
   ]
  },
  {
   "cell_type": "code",
   "execution_count": 292,
   "metadata": {
    "collapsed": false
   },
   "outputs": [
    {
     "name": "stdout",
     "output_type": "stream",
     "text": [
      "[[ 0.1   0.  ]\n",
      " [ 0.    0.04]]\n",
      "[[ True False]\n",
      " [False  True]]\n"
     ]
    }
   ],
   "source": [
    "X=np.matrix(data)\n",
    "cov=(X[:,2:4]).transpose()*(X[:,2:4])/100\n",
    "print(cov)\n",
    "print(cov>1e-10)"
   ]
  },
  {
   "cell_type": "markdown",
   "metadata": {},
   "source": [
    "The regressors are not correlated, being therefore orthogonal."
   ]
  },
  {
   "cell_type": "code",
   "execution_count": 293,
   "metadata": {
    "collapsed": false
   },
   "outputs": [
    {
     "name": "stdout",
     "output_type": "stream",
     "text": [
      "0.7 -0.5\n",
      "Intercept    2.0\n",
      "x2           0.7\n",
      "x3          -0.5\n",
      "dtype: float64\n"
     ]
    }
   ],
   "source": [
    "X2 = array([data.x2, ones(5)])\n",
    "X3 = array([data.x3, ones(5)])\n",
    "w2=linalg.lstsq(X2.T,data.y)[0][0]\n",
    "w3=linalg.lstsq(X3.T,data.y)[0][0]\n",
    "print w2,w3\n",
    "print(lm3.params)"
   ]
  },
  {
   "cell_type": "markdown",
   "metadata": {},
   "source": [
    "The estimates are the same as in problem 2."
   ]
  },
  {
   "cell_type": "markdown",
   "metadata": {},
   "source": [
    "### Problem 4 (5% credit)\n",
    "Suppose that a multiple regression with 7 regressors gave the following p-values for each of them:\n",
    "0.01, 1e-15, 0.1, 0.04, 0.001, 0.06, 0.03\n",
    "How many regressors you would exclude based on that? Please explain."
   ]
  },
  {
   "cell_type": "markdown",
   "metadata": {},
   "source": [
    "Depends on the threshold I am adopting. If I adopt a custom threshold of 5%, I would only exclude two regressors, (p=0.1 and 0.06) as I would not reject the null hyphothesis that w=0. A more appropriate solution would be to first exclude the p=0.1 regressor and re-run the model. I would only then reanalize all statistics to see if another regressor should be excluded."
   ]
  },
  {
   "cell_type": "markdown",
   "metadata": {},
   "source": [
    "### Problem 6 (20% credit)\n",
    "Perform a multivariate regression of y over x1,x2,x3,x4,x5 (with an intercept) using the observations from: https://serv.cusp.nyu.edu/files/ADS-2015/MorningSection/homework3/H32.csv"
   ]
  },
  {
   "cell_type": "code",
   "execution_count": 315,
   "metadata": {
    "collapsed": false
   },
   "outputs": [
    {
     "name": "stdout",
     "output_type": "stream",
     "text": [
      "                            OLS Regression Results                            \n",
      "==============================================================================\n",
      "Dep. Variable:                      y   R-squared:                       0.969\n",
      "Model:                            OLS   Adj. R-squared:                  0.967\n",
      "Method:                 Least Squares   F-statistic:                     581.7\n",
      "Date:                Mon, 05 Oct 2015   Prob (F-statistic):           4.76e-69\n",
      "Time:                        03:49:56   Log-Likelihood:                -220.81\n",
      "No. Observations:                 100   AIC:                             453.6\n",
      "Df Residuals:                      94   BIC:                             469.3\n",
      "Df Model:                           5                                         \n",
      "Covariance Type:            nonrobust                                         \n",
      "==============================================================================\n",
      "                 coef    std err          t      P>|t|      [95.0% Conf. Int.]\n",
      "------------------------------------------------------------------------------\n",
      "Intercept     -0.2251      0.648     -0.347      0.729        -1.513     1.062\n",
      "x1             0.0008      0.008      0.098      0.922        -0.015     0.017\n",
      "x2            -0.0208      0.016     -1.329      0.187        -0.052     0.010\n",
      "x3             2.0103      0.043     46.266      0.000         1.924     2.097\n",
      "x4            -1.0059      0.087    -11.600      0.000        -1.178    -0.834\n",
      "x5            10.4007      0.796     13.070      0.000         8.821    11.981\n",
      "==============================================================================\n",
      "Omnibus:                        7.114   Durbin-Watson:                   2.134\n",
      "Prob(Omnibus):                  0.029   Jarque-Bera (JB):                6.748\n",
      "Skew:                           0.521   Prob(JB):                       0.0342\n",
      "Kurtosis:                       3.732   Cond. No.                         239.\n",
      "==============================================================================\n",
      "\n",
      "Warnings:\n",
      "[1] Standard Errors assume that the covariance matrix of the errors is correctly specified.\n"
     ]
    }
   ],
   "source": [
    "url = \"https://serv.cusp.nyu.edu/files/ADS-2015/MorningSection/homework3/H32.csv\"\n",
    "f = urllib.urlopen(url)\n",
    "data2 = pd.read_csv(f , index_col=0 )\n",
    "lm = smf.ols(formula='y ~ x1+x2+x3+x4+x5', data = data2).fit()\n",
    "print(lm.summary())"
   ]
  },
  {
   "cell_type": "markdown",
   "metadata": {},
   "source": [
    "### Problem 7 (20% credit)\n",
    "Perform the same regression as from the problem 5 but after standardization of the regressors. Report the regressor having the highest impact on the responce variable."
   ]
  },
  {
   "cell_type": "code",
   "execution_count": 327,
   "metadata": {
    "collapsed": false
   },
   "outputs": [
    {
     "name": "stdout",
     "output_type": "stream",
     "text": [
      "                            OLS Regression Results                            \n",
      "==============================================================================\n",
      "Dep. Variable:                      y   R-squared:                       0.969\n",
      "Model:                            OLS   Adj. R-squared:                  0.967\n",
      "Method:                 Least Squares   F-statistic:                     581.7\n",
      "Date:                Mon, 05 Oct 2015   Prob (F-statistic):           4.76e-69\n",
      "Time:                        03:59:06   Log-Likelihood:                -220.81\n",
      "No. Observations:                 100   AIC:                             453.6\n",
      "Df Residuals:                      94   BIC:                             469.3\n",
      "Df Model:                           5                                         \n",
      "Covariance Type:            nonrobust                                         \n",
      "==============================================================================\n",
      "                 coef    std err          t      P>|t|      [95.0% Conf. Int.]\n",
      "------------------------------------------------------------------------------\n",
      "Intercept     23.8651      0.227    105.095      0.000        23.414    24.316\n",
      "x1             0.0231      0.236      0.098      0.922        -0.445     0.491\n",
      "x2            -0.3145      0.237     -1.329      0.187        -0.784     0.155\n",
      "x3            11.0882      0.240     46.266      0.000        10.612    11.564\n",
      "x4            -2.7646      0.238    -11.600      0.000        -3.238    -2.291\n",
      "x5             3.0308      0.232     13.070      0.000         2.570     3.491\n",
      "==============================================================================\n",
      "Omnibus:                        7.114   Durbin-Watson:                   2.134\n",
      "Prob(Omnibus):                  0.029   Jarque-Bera (JB):                6.748\n",
      "Skew:                           0.521   Prob(JB):                       0.0342\n",
      "Kurtosis:                       3.732   Cond. No.                         1.48\n",
      "==============================================================================\n",
      "\n",
      "Warnings:\n",
      "[1] Standard Errors assume that the covariance matrix of the errors is correctly specified.\n"
     ]
    }
   ],
   "source": [
    "url = \"https://serv.cusp.nyu.edu/files/ADS-2015/MorningSection/homework3/H32.csv\"\n",
    "f = urllib.urlopen(url)\n",
    "data2 = pd.read_csv(f , index_col=0 )\n",
    "data2.x1=(data2.x1-mean(data2.x1))/std(data2.x1)\n",
    "data2.x2=(data2.x2-mean(data2.x2))/std(data2.x2)\n",
    "data2.x3=(data2.x3-mean(data2.x3))/std(data2.x3)\n",
    "data2.x4=(data2.x4-mean(data2.x4))/std(data2.x4)\n",
    "data2.x5=(data2.x5-mean(data2.x5))/std(data2.x5)\n",
    "lm2 = smf.ols(formula='y ~ x1 + x2 + x3 +x4 +x5', data = data2).fit()\n",
    "print(lm2.summary())"
   ]
  },
  {
   "cell_type": "markdown",
   "metadata": {},
   "source": [
    "X3 has the highest impact in the response variable, given its higher coeficient."
   ]
  },
  {
   "cell_type": "markdown",
   "metadata": {},
   "source": []
  },
  {
   "cell_type": "markdown",
   "metadata": {},
   "source": [
    "### Problem 8 (20% credit)\n",
    "Analyzing regression statistics from problem 6 exclude the regressors with insignificant impact. Repeat the regression over the remaining regressors only and report the statistics."
   ]
  },
  {
   "cell_type": "markdown",
   "metadata": {},
   "source": [
    "Excluding x1 and x2 given high P's"
   ]
  },
  {
   "cell_type": "code",
   "execution_count": 321,
   "metadata": {
    "collapsed": false
   },
   "outputs": [
    {
     "name": "stdout",
     "output_type": "stream",
     "text": [
      "                            OLS Regression Results                            \n",
      "==============================================================================\n",
      "Dep. Variable:                      y   R-squared:                       0.968\n",
      "Model:                            OLS   Adj. R-squared:                  0.967\n",
      "Method:                 Least Squares   F-statistic:                     970.7\n",
      "Date:                Mon, 05 Oct 2015   Prob (F-statistic):           1.20e-71\n",
      "Time:                        03:54:28   Log-Likelihood:                -221.77\n",
      "No. Observations:                 100   AIC:                             451.5\n",
      "Df Residuals:                      96   BIC:                             462.0\n",
      "Df Model:                           3                                         \n",
      "Covariance Type:            nonrobust                                         \n",
      "==============================================================================\n",
      "                 coef    std err          t      P>|t|      [95.0% Conf. Int.]\n",
      "------------------------------------------------------------------------------\n",
      "Intercept     -0.1232      0.559     -0.220      0.826        -1.233     0.987\n",
      "x3             2.0008      0.042     47.924      0.000         1.918     2.084\n",
      "x4            -0.9873      0.084    -11.698      0.000        -1.155    -0.820\n",
      "x5            10.4450      0.794     13.162      0.000         8.870    12.020\n",
      "==============================================================================\n",
      "Omnibus:                        7.149   Durbin-Watson:                   2.193\n",
      "Prob(Omnibus):                  0.028   Jarque-Bera (JB):                6.872\n",
      "Skew:                           0.510   Prob(JB):                       0.0322\n",
      "Kurtosis:                       3.780   Cond. No.                         42.3\n",
      "==============================================================================\n",
      "\n",
      "Warnings:\n",
      "[1] Standard Errors assume that the covariance matrix of the errors is correctly specified.\n"
     ]
    }
   ],
   "source": [
    "url = \"https://serv.cusp.nyu.edu/files/ADS-2015/MorningSection/homework3/H32.csv\"\n",
    "f = urllib.urlopen(url)\n",
    "data2 = pd.read_csv(f , index_col=0 )\n",
    "lm = smf.ols(formula='y ~ x3+x4+x5', data = data2).fit()\n",
    "print(lm.summary())"
   ]
  },
  {
   "cell_type": "markdown",
   "metadata": {},
   "source": [
    "### Extra credit assignment (40% of credit to be applied toward this or further homeworks )\n",
    "\n",
    "Using the real estate data from the lab, train and validate the multivariate linear models for predicting sales price within each zip code for the: a) single-residence, b) multiapartment houses. Consider only the zip codes having more than 500 houses to consider. Train the model over as many relevant regressors as you can (including dummy-variables expressing impact of non-real valued factors or non-linear impacts) and perform feature selection over the validaton set. This is a custom approach - feel free to frame it as you like aiming for the best possible performance over the validation sets. Report the final training and validation set R2's as a table (zip, size, R2) as well as a spatial visualization (just the validation R2 over zip code's lat-long with colors indicating the R2 value). "
   ]
  },
  {
   "cell_type": "code",
   "execution_count": null,
   "metadata": {
    "collapsed": true
   },
   "outputs": [],
   "source": []
  }
 ],
 "metadata": {
  "kernelspec": {
   "display_name": "Python 2",
   "language": "python",
   "name": "python2"
  },
  "language_info": {
   "codemirror_mode": {
    "name": "ipython",
    "version": 2
   },
   "file_extension": ".py",
   "mimetype": "text/x-python",
   "name": "python",
   "nbconvert_exporter": "python",
   "pygments_lexer": "ipython2",
   "version": "2.7.10"
  }
 },
 "nbformat": 4,
 "nbformat_minor": 0
}
