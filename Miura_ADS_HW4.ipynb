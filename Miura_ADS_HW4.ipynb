{
 "cells": [
  {
   "cell_type": "markdown",
   "metadata": {},
   "source": [
    "# Homework 4\n"
   ]
  },
  {
   "cell_type": "markdown",
   "metadata": {},
   "source": [
    "### Problem 1 (10% credit). \n",
    "What can the principal component decomposition of the regressors help multivariate linear regression with (check all that apply):\n",
    "a) improve the fit accuracy (R2);\n",
    "b) remove correlations between regressors;\n",
    "c) improve the certainty of regression coefficients estimation (shrink confidence intervals for them);\n",
    "d) allow to better interpret impact of the regressors;\n",
    "e) increase a number of regressors to gain better prediction power;\n",
    "f) introduce new regressors that have more impact on the output variable."
   ]
  },
  {
   "cell_type": "markdown",
   "metadata": {},
   "source": [
    "ANSWER:  \n",
    "a) FALSE. No components are added in this process.\n",
    "b) TRUE. The principal components are mutually orthogonal.\n",
    "c) FALSE. The regression will be better interpreted, but not necessarily improve certainty of the estimation.\n",
    "d) TRUE. By getting rid of multicolinearity and reducing the variance, regressors can be better interpreted.\n",
    "e) FALSE. The predictors could actually be reduced, at the same time we try to keep the information from regressors.\n",
    "f) FALSE. We are actually merging predictors. If by \"new regressors\" you mean the merged ones, the statement can actually be true."
   ]
  },
  {
   "cell_type": "code",
   "execution_count": 4,
   "metadata": {
    "collapsed": false
   },
   "outputs": [
    {
     "name": "stdout",
     "output_type": "stream",
     "text": [
      "Populating the interactive namespace from numpy and matplotlib\n"
     ]
    }
   ],
   "source": [
    "import numpy as np\n",
    "import pandas as pd\n",
    "import datetime\n",
    "import matplotlib.pyplot as plt\n",
    "import scipy\n",
    "from scipy import stats\n",
    "%pylab inline\n",
    "from matplotlib import pyplot as plt\n",
    "from mpl_toolkits.mplot3d import Axes3D\n",
    "from mpl_toolkits.mplot3d import proj3d\n",
    "import statsmodels.formula.api as smf"
   ]
  },
  {
   "cell_type": "code",
   "execution_count": 5,
   "metadata": {
    "collapsed": false,
    "scrolled": true
   },
   "outputs": [
    {
     "data": {
      "text/html": [
       "<div>\n",
       "<table border=\"1\" class=\"dataframe\">\n",
       "  <thead>\n",
       "    <tr style=\"text-align: right;\">\n",
       "      <th></th>\n",
       "      <th>X1</th>\n",
       "      <th>X2</th>\n",
       "      <th>X3</th>\n",
       "      <th>X4</th>\n",
       "      <th>X5</th>\n",
       "      <th>X6</th>\n",
       "      <th>X7</th>\n",
       "      <th>X8</th>\n",
       "      <th>X9</th>\n",
       "      <th>X10</th>\n",
       "      <th>...</th>\n",
       "      <th>X12</th>\n",
       "      <th>X13</th>\n",
       "      <th>X14</th>\n",
       "      <th>X15</th>\n",
       "      <th>X16</th>\n",
       "      <th>X17</th>\n",
       "      <th>X18</th>\n",
       "      <th>X19</th>\n",
       "      <th>X20</th>\n",
       "      <th>Y</th>\n",
       "    </tr>\n",
       "  </thead>\n",
       "  <tbody>\n",
       "    <tr>\n",
       "      <th>100</th>\n",
       "      <td>0.021073</td>\n",
       "      <td>0.473330</td>\n",
       "      <td>-0.854525</td>\n",
       "      <td>-1.434702</td>\n",
       "      <td>-1.319011</td>\n",
       "      <td>0.602675</td>\n",
       "      <td>-0.627579</td>\n",
       "      <td>-1.546888</td>\n",
       "      <td>-1.434669</td>\n",
       "      <td>-0.003120</td>\n",
       "      <td>...</td>\n",
       "      <td>0.676649</td>\n",
       "      <td>0.397233</td>\n",
       "      <td>-0.035299</td>\n",
       "      <td>-0.426683</td>\n",
       "      <td>1.455772</td>\n",
       "      <td>2.030468</td>\n",
       "      <td>-0.843831</td>\n",
       "      <td>-0.002672</td>\n",
       "      <td>-0.177249</td>\n",
       "      <td>-0.090934</td>\n",
       "    </tr>\n",
       "    <tr>\n",
       "      <th>101</th>\n",
       "      <td>0.597511</td>\n",
       "      <td>0.257097</td>\n",
       "      <td>-0.308613</td>\n",
       "      <td>-0.818133</td>\n",
       "      <td>0.362574</td>\n",
       "      <td>0.712588</td>\n",
       "      <td>1.008610</td>\n",
       "      <td>0.210298</td>\n",
       "      <td>0.305236</td>\n",
       "      <td>-0.628875</td>\n",
       "      <td>...</td>\n",
       "      <td>1.873870</td>\n",
       "      <td>0.032842</td>\n",
       "      <td>-1.207351</td>\n",
       "      <td>-0.052605</td>\n",
       "      <td>1.215049</td>\n",
       "      <td>-1.272879</td>\n",
       "      <td>-0.684974</td>\n",
       "      <td>-1.042204</td>\n",
       "      <td>1.120010</td>\n",
       "      <td>-2.081685</td>\n",
       "    </tr>\n",
       "    <tr>\n",
       "      <th>102</th>\n",
       "      <td>2.152969</td>\n",
       "      <td>-0.739789</td>\n",
       "      <td>0.971372</td>\n",
       "      <td>0.866783</td>\n",
       "      <td>-1.153372</td>\n",
       "      <td>-1.112272</td>\n",
       "      <td>1.221799</td>\n",
       "      <td>-0.325436</td>\n",
       "      <td>0.641371</td>\n",
       "      <td>0.766197</td>\n",
       "      <td>...</td>\n",
       "      <td>-0.275757</td>\n",
       "      <td>0.561376</td>\n",
       "      <td>0.035587</td>\n",
       "      <td>0.395428</td>\n",
       "      <td>-0.291604</td>\n",
       "      <td>-0.519191</td>\n",
       "      <td>-0.230752</td>\n",
       "      <td>0.903643</td>\n",
       "      <td>1.141344</td>\n",
       "      <td>5.623493</td>\n",
       "    </tr>\n",
       "    <tr>\n",
       "      <th>103</th>\n",
       "      <td>0.321259</td>\n",
       "      <td>-0.646392</td>\n",
       "      <td>-0.468620</td>\n",
       "      <td>-0.680378</td>\n",
       "      <td>-0.292803</td>\n",
       "      <td>0.519052</td>\n",
       "      <td>0.093340</td>\n",
       "      <td>-0.699125</td>\n",
       "      <td>0.858503</td>\n",
       "      <td>0.081597</td>\n",
       "      <td>...</td>\n",
       "      <td>-0.798732</td>\n",
       "      <td>0.744467</td>\n",
       "      <td>-0.614448</td>\n",
       "      <td>1.687696</td>\n",
       "      <td>-1.866164</td>\n",
       "      <td>1.426627</td>\n",
       "      <td>-0.936641</td>\n",
       "      <td>1.150681</td>\n",
       "      <td>-0.271796</td>\n",
       "      <td>-1.511269</td>\n",
       "    </tr>\n",
       "    <tr>\n",
       "      <th>104</th>\n",
       "      <td>-1.134511</td>\n",
       "      <td>-1.250763</td>\n",
       "      <td>0.436301</td>\n",
       "      <td>0.618552</td>\n",
       "      <td>-0.411966</td>\n",
       "      <td>2.915248</td>\n",
       "      <td>-0.735903</td>\n",
       "      <td>2.421916</td>\n",
       "      <td>-1.750252</td>\n",
       "      <td>-0.663054</td>\n",
       "      <td>...</td>\n",
       "      <td>-1.225360</td>\n",
       "      <td>-1.593128</td>\n",
       "      <td>-0.716077</td>\n",
       "      <td>-0.872342</td>\n",
       "      <td>-1.177990</td>\n",
       "      <td>-1.648093</td>\n",
       "      <td>-0.567438</td>\n",
       "      <td>-1.511116</td>\n",
       "      <td>0.013016</td>\n",
       "      <td>3.660144</td>\n",
       "    </tr>\n",
       "  </tbody>\n",
       "</table>\n",
       "<p>5 rows × 21 columns</p>\n",
       "</div>"
      ],
      "text/plain": [
       "           X1        X2        X3        X4        X5        X6        X7  \\\n",
       "100  0.021073  0.473330 -0.854525 -1.434702 -1.319011  0.602675 -0.627579   \n",
       "101  0.597511  0.257097 -0.308613 -0.818133  0.362574  0.712588  1.008610   \n",
       "102  2.152969 -0.739789  0.971372  0.866783 -1.153372 -1.112272  1.221799   \n",
       "103  0.321259 -0.646392 -0.468620 -0.680378 -0.292803  0.519052  0.093340   \n",
       "104 -1.134511 -1.250763  0.436301  0.618552 -0.411966  2.915248 -0.735903   \n",
       "\n",
       "           X8        X9       X10    ...          X12       X13       X14  \\\n",
       "100 -1.546888 -1.434669 -0.003120    ...     0.676649  0.397233 -0.035299   \n",
       "101  0.210298  0.305236 -0.628875    ...     1.873870  0.032842 -1.207351   \n",
       "102 -0.325436  0.641371  0.766197    ...    -0.275757  0.561376  0.035587   \n",
       "103 -0.699125  0.858503  0.081597    ...    -0.798732  0.744467 -0.614448   \n",
       "104  2.421916 -1.750252 -0.663054    ...    -1.225360 -1.593128 -0.716077   \n",
       "\n",
       "          X15       X16       X17       X18       X19       X20         Y  \n",
       "100 -0.426683  1.455772  2.030468 -0.843831 -0.002672 -0.177249 -0.090934  \n",
       "101 -0.052605  1.215049 -1.272879 -0.684974 -1.042204  1.120010 -2.081685  \n",
       "102  0.395428 -0.291604 -0.519191 -0.230752  0.903643  1.141344  5.623493  \n",
       "103  1.687696 -1.866164  1.426627 -0.936641  1.150681 -0.271796 -1.511269  \n",
       "104 -0.872342 -1.177990 -1.648093 -0.567438 -1.511116  0.013016  3.660144  \n",
       "\n",
       "[5 rows x 21 columns]"
      ]
     },
     "execution_count": 5,
     "metadata": {},
     "output_type": "execute_result"
    }
   ],
   "source": [
    "### data for problem 2\n",
    "data1 = pd.read_csv('https://serv.cusp.nyu.edu/files/ADS-2015/MorningSection/homework4/H41.csv' , index_col=0 )\n",
    "(N,n)=data1.shape\n",
    "n=n-1\n",
    "train1 = data1.loc[0:((N/2)-1),:]\n",
    "valid1 = data1.loc[(N/2):(N-1),:]\n",
    "valid1.head()"
   ]
  },
  {
   "cell_type": "markdown",
   "metadata": {},
   "source": [
    "### Problem 2 (40% credit). \n",
    "For the data above (training and validation sets) perform a multivariate regression of Y vs all the columns of X and implement a backward stepwise feature selection procedure (evaluating the models trained using different sets of features over the training set using the validation set). Report statistics for both - initial regression and the regression vs the selected subset of regressors."
   ]
  },
  {
   "cell_type": "code",
   "execution_count": 10,
   "metadata": {
    "collapsed": false
   },
   "outputs": [
    {
     "name": "stdout",
     "output_type": "stream",
     "text": [
      "                            OLS Regression Results                            \n",
      "==============================================================================\n",
      "Dep. Variable:                      Y   R-squared:                       0.756\n",
      "Model:                            OLS   Adj. R-squared:                  0.695\n",
      "Method:                 Least Squares   F-statistic:                     12.42\n",
      "Date:                Tue, 13 Oct 2015   Prob (F-statistic):           5.25e-17\n",
      "Time:                        22:59:47   Log-Likelihood:                -217.17\n",
      "No. Observations:                 100   AIC:                             474.3\n",
      "Df Residuals:                      80   BIC:                             526.4\n",
      "Df Model:                          20                                         \n",
      "Covariance Type:            nonrobust                                         \n",
      "==============================================================================\n",
      "                 coef    std err          t      P>|t|      [95.0% Conf. Int.]\n",
      "------------------------------------------------------------------------------\n",
      "X1            -0.1257      0.226     -0.555      0.581        -0.576     0.325\n",
      "X2            -0.1600      0.252     -0.636      0.527        -0.661     0.341\n",
      "X3             0.9117      0.267      3.415      0.001         0.381     1.443\n",
      "X4            -0.2560      0.305     -0.840      0.403        -0.863     0.351\n",
      "X5            -3.0468      0.240    -12.693      0.000        -3.525    -2.569\n",
      "X6            -0.5011      0.289     -1.732      0.087        -1.077     0.075\n",
      "X7             0.8583      0.230      3.739      0.000         0.401     1.315\n",
      "X8             0.0565      0.285      0.198      0.844        -0.512     0.625\n",
      "X9            -0.4958      0.290     -1.711      0.091        -1.073     0.081\n",
      "X10            0.2375      0.255      0.929      0.355        -0.271     0.746\n",
      "X11            0.4010      0.317      1.264      0.210        -0.230     1.032\n",
      "X12            0.2206      0.264      0.834      0.407        -0.306     0.747\n",
      "X13           -0.1241      0.265     -0.469      0.640        -0.651     0.403\n",
      "X14            0.2137      0.286      0.747      0.457        -0.355     0.783\n",
      "X15            0.0910      0.314      0.290      0.773        -0.534     0.716\n",
      "X16            0.2296      0.247      0.929      0.356        -0.262     0.721\n",
      "X17            0.2337      0.289      0.810      0.421        -0.341     0.808\n",
      "X18           -0.1703      0.300     -0.567      0.572        -0.768     0.427\n",
      "X19           -0.2890      0.240     -1.204      0.232        -0.767     0.189\n",
      "X20           -0.1021      0.268     -0.381      0.705        -0.636     0.432\n",
      "==============================================================================\n",
      "Omnibus:                        2.123   Durbin-Watson:                   1.973\n",
      "Prob(Omnibus):                  0.346   Jarque-Bera (JB):                1.487\n",
      "Skew:                           0.013   Prob(JB):                        0.475\n",
      "Kurtosis:                       2.403   Cond. No.                         2.40\n",
      "==============================================================================\n",
      "\n",
      "Warnings:\n",
      "[1] Standard Errors assume that the covariance matrix of the errors is correctly specified.\n"
     ]
    }
   ],
   "source": [
    "formstr = 'Y~-1'\n",
    "for i in range(1,21):\n",
    "    formstr = formstr+'+X'+str(i)\n",
    "    lm0 = smf.ols(formula=formstr, data=train1).fit()\n",
    "print lm0.summary()"
   ]
  },
  {
   "cell_type": "code",
   "execution_count": 11,
   "metadata": {
    "collapsed": false
   },
   "outputs": [],
   "source": [
    "def regress(mask):\n",
    "    formstr='Y~-1'\n",
    "    for i in range(0,len(mask)):\n",
    "        if mask[i]==1:\n",
    "            formstr=formstr+'+X'+str(i+1)\n",
    "    lm = smf.ols(formula=formstr, data = train1).fit()\n",
    "    lmy2 = lm.predict(valid1)\n",
    "    R2=1-sum(pow(lmy2-valid1.Y,2))/sum(pow(valid1.Y-mean(valid1.Y),2))\n",
    "    return (R2,lm) "
   ]
  },
  {
   "cell_type": "code",
   "execution_count": 13,
   "metadata": {
    "collapsed": false
   },
   "outputs": [
    {
     "name": "stdout",
     "output_type": "stream",
     "text": [
      "(5, 0.70393077943971583)\n",
      "(15, 0.72611044015317705)\n",
      "(10, 0.73101645869401999)\n",
      "(16, 0.73668049600031837)\n",
      "(8, 0.74527020196127358)\n",
      "(9, 0.7517610223970973)\n",
      "(12, 0.75494320198289999)\n",
      "(13, 0.75617197389978275)\n",
      "(17, 0.7570565954363655)\n",
      "(0, 0.75786220808730742)\n",
      "(7, 0.75853059733108708)\n",
      "(1, 0.75908016700827974)\n",
      "                            OLS Regression Results                            \n",
      "==============================================================================\n",
      "Dep. Variable:                      Y   R-squared:                       0.725\n",
      "Model:                            OLS   Adj. R-squared:                  0.704\n",
      "Method:                 Least Squares   F-statistic:                     35.05\n",
      "Date:                Tue, 13 Oct 2015   Prob (F-statistic):           1.84e-23\n",
      "Time:                        23:01:09   Log-Likelihood:                -223.20\n",
      "No. Observations:                 100   AIC:                             460.4\n",
      "Df Residuals:                      93   BIC:                             478.6\n",
      "Df Model:                           7                                         \n",
      "Covariance Type:            nonrobust                                         \n",
      "==============================================================================\n",
      "                 coef    std err          t      P>|t|      [95.0% Conf. Int.]\n",
      "------------------------------------------------------------------------------\n",
      "X3             1.0023      0.244      4.113      0.000         0.518     1.486\n",
      "X4            -0.0091      0.275     -0.033      0.974        -0.555     0.536\n",
      "X5            -3.1748      0.216    -14.670      0.000        -3.605    -2.745\n",
      "X7             0.7640      0.217      3.522      0.001         0.333     1.195\n",
      "X12            0.1340      0.249      0.538      0.592        -0.360     0.628\n",
      "X15           -0.1454      0.272     -0.534      0.594        -0.686     0.395\n",
      "X19           -0.3403      0.225     -1.510      0.134        -0.788     0.107\n",
      "==============================================================================\n",
      "Omnibus:                        2.354   Durbin-Watson:                   2.028\n",
      "Prob(Omnibus):                  0.308   Jarque-Bera (JB):                1.596\n",
      "Skew:                          -0.042   Prob(JB):                        0.450\n",
      "Kurtosis:                       2.387   Cond. No.                         1.49\n",
      "==============================================================================\n",
      "\n",
      "Warnings:\n",
      "[1] Standard Errors assume that the covariance matrix of the errors is correctly specified.\n"
     ]
    }
   ],
   "source": [
    "n=19\n",
    "mask0=[1]*n \n",
    "r20=.667\n",
    "while True:\n",
    "    bestI=-1 \n",
    "    for i in range(0,n):\n",
    "        if (mask0[i]==1):\n",
    "             mask=mask0[:]\n",
    "             mask[i]=0\n",
    "             r2=regress(mask)[0]\n",
    "             if (r2>r20):\n",
    "                 r20=r2\n",
    "                 bestI=i\n",
    "    if (bestI>=0):\n",
    "        mask0[bestI]=0\n",
    "        print((bestI,r20))\n",
    "    else:\n",
    "        break\n",
    "(r2,lm)= regress(mask0)\n",
    "print lm.summary()"
   ]
  },
  {
   "cell_type": "code",
   "execution_count": 158,
   "metadata": {
    "collapsed": false
   },
   "outputs": [
    {
     "data": {
      "text/html": [
       "<div>\n",
       "<table border=\"1\" class=\"dataframe\">\n",
       "  <thead>\n",
       "    <tr style=\"text-align: right;\">\n",
       "      <th></th>\n",
       "      <th>X1</th>\n",
       "      <th>X2</th>\n",
       "      <th>X3</th>\n",
       "      <th>X4</th>\n",
       "      <th>X5</th>\n",
       "      <th>X6</th>\n",
       "      <th>X7</th>\n",
       "      <th>X8</th>\n",
       "      <th>X9</th>\n",
       "      <th>X10</th>\n",
       "      <th>Y</th>\n",
       "    </tr>\n",
       "  </thead>\n",
       "  <tbody>\n",
       "    <tr>\n",
       "      <th>0</th>\n",
       "      <td>10.261135</td>\n",
       "      <td>4.415661</td>\n",
       "      <td>3.185990</td>\n",
       "      <td>14.588875</td>\n",
       "      <td>-2.441283</td>\n",
       "      <td>1.994659</td>\n",
       "      <td>-2.832966</td>\n",
       "      <td>-4.060996</td>\n",
       "      <td>-9.552254</td>\n",
       "      <td>2.088611</td>\n",
       "      <td>4.332115</td>\n",
       "    </tr>\n",
       "    <tr>\n",
       "      <th>1</th>\n",
       "      <td>-6.484509</td>\n",
       "      <td>1.496613</td>\n",
       "      <td>-5.139275</td>\n",
       "      <td>8.612433</td>\n",
       "      <td>6.095630</td>\n",
       "      <td>6.515780</td>\n",
       "      <td>2.772823</td>\n",
       "      <td>-4.576894</td>\n",
       "      <td>-7.844913</td>\n",
       "      <td>-3.729653</td>\n",
       "      <td>-2.626149</td>\n",
       "    </tr>\n",
       "    <tr>\n",
       "      <th>2</th>\n",
       "      <td>2.213149</td>\n",
       "      <td>3.328561</td>\n",
       "      <td>2.493297</td>\n",
       "      <td>3.561928</td>\n",
       "      <td>3.432203</td>\n",
       "      <td>-6.106145</td>\n",
       "      <td>-2.403077</td>\n",
       "      <td>0.254194</td>\n",
       "      <td>2.485210</td>\n",
       "      <td>-4.857989</td>\n",
       "      <td>6.190211</td>\n",
       "    </tr>\n",
       "    <tr>\n",
       "      <th>3</th>\n",
       "      <td>-11.539916</td>\n",
       "      <td>1.168906</td>\n",
       "      <td>-5.640197</td>\n",
       "      <td>-12.757397</td>\n",
       "      <td>-3.153445</td>\n",
       "      <td>-5.316729</td>\n",
       "      <td>9.594091</td>\n",
       "      <td>5.387306</td>\n",
       "      <td>3.617259</td>\n",
       "      <td>6.098015</td>\n",
       "      <td>-4.949503</td>\n",
       "    </tr>\n",
       "    <tr>\n",
       "      <th>4</th>\n",
       "      <td>5.227771</td>\n",
       "      <td>-5.799965</td>\n",
       "      <td>1.170432</td>\n",
       "      <td>2.397935</td>\n",
       "      <td>5.572502</td>\n",
       "      <td>0.871541</td>\n",
       "      <td>2.330155</td>\n",
       "      <td>-2.214523</td>\n",
       "      <td>3.428943</td>\n",
       "      <td>-6.646335</td>\n",
       "      <td>2.131978</td>\n",
       "    </tr>\n",
       "  </tbody>\n",
       "</table>\n",
       "</div>"
      ],
      "text/plain": [
       "          X1        X2        X3         X4        X5        X6        X7  \\\n",
       "0  10.261135  4.415661  3.185990  14.588875 -2.441283  1.994659 -2.832966   \n",
       "1  -6.484509  1.496613 -5.139275   8.612433  6.095630  6.515780  2.772823   \n",
       "2   2.213149  3.328561  2.493297   3.561928  3.432203 -6.106145 -2.403077   \n",
       "3 -11.539916  1.168906 -5.640197 -12.757397 -3.153445 -5.316729  9.594091   \n",
       "4   5.227771 -5.799965  1.170432   2.397935  5.572502  0.871541  2.330155   \n",
       "\n",
       "         X8        X9       X10         Y  \n",
       "0 -4.060996 -9.552254  2.088611  4.332115  \n",
       "1 -4.576894 -7.844913 -3.729653 -2.626149  \n",
       "2  0.254194  2.485210 -4.857989  6.190211  \n",
       "3  5.387306  3.617259  6.098015 -4.949503  \n",
       "4 -2.214523  3.428943 -6.646335  2.131978  "
      ]
     },
     "execution_count": 158,
     "metadata": {},
     "output_type": "execute_result"
    }
   ],
   "source": [
    "#data for problems 3-5\n",
    "data2 = pd.read_csv('https://serv.cusp.nyu.edu/files/ADS-2015/MorningSection/homework4/H42.csv' , index_col=0 )\n",
    "data2.head()"
   ]
  },
  {
   "cell_type": "markdown",
   "metadata": {},
   "source": [
    "### Problem 3 (20% of credit)\n",
    "For the regressors X from the above dataset 2 perform a principal component decomposition and visualize the percent of variation as a function of the number of selected leading principal components."
   ]
  },
  {
   "cell_type": "code",
   "execution_count": 151,
   "metadata": {
    "collapsed": false
   },
   "outputs": [
    {
     "data": {
      "text/plain": [
       "<Container object of 10 artists>"
      ]
     },
     "execution_count": 151,
     "metadata": {},
     "output_type": "execute_result"
    },
    {
     "data": {
      "image/png": "[encoded data removed]",
      "text/plain": [
       "<matplotlib.figure.Figure at 0x10c1cf9d0>"
      ]
     },
     "metadata": {},
     "output_type": "display_data"
    }
   ],
   "source": [
    "Y = np.matrix(data2.Y)\n",
    "X = np.matrix(data2.drop('Y', 1))\n",
    "\n",
    "mean0 = mean(X,0)\n",
    "std0 = std(X,0)\n",
    "X1 = 1.0*np.array(X)\n",
    "for i in xrange(0,9):\n",
    "    X1[:,i]=(X1[:,i]-mean0[0,i])/std0[0,i]\n",
    "\n",
    "#singular value decomposition\n",
    "U, s, Vt = np.linalg.svd(X1) \n",
    "V = Vt.T\n",
    "\n",
    "#sorting results\n",
    "ind = np.argsort(s)[::-1] \n",
    "U = U[:, ind]\n",
    "s = s[ind]\n",
    "V = V[:, ind]\n",
    "S = np.diag(s)\n",
    "P=X1*np.matrix(V)\n",
    "\n",
    "sc=cumsum(s**2/sum(s**2))\n",
    "\n",
    "plt.bar(range(1,(len(sc)+1)),sc)"
   ]
  },
  {
   "cell_type": "markdown",
   "metadata": {},
   "source": [
    "### Problem 4 (15% of credit)\n",
    "For the principal component decomposition from the problem 4, visualize the data in a 2d and 3d coordinate system according to the 2 and 3 leading principal components correspondingly."
   ]
  },
  {
   "cell_type": "code",
   "execution_count": 142,
   "metadata": {
    "collapsed": false
   },
   "outputs": [
    {
     "data": {
      "text/plain": [
       "<mpl_toolkits.mplot3d.art3d.Path3DCollection at 0x10bea1050>"
      ]
     },
     "execution_count": 142,
     "metadata": {},
     "output_type": "execute_result"
    },
    {
     "data": {
      "image/png": "[encoded data removed]",
      "text/plain": [
       "<matplotlib.figure.Figure at 0x10bd24390>"
      ]
     },
     "metadata": {},
     "output_type": "display_data"
    },
    {
     "data": {
      "image/png": "[encoded data removed]",
      "text/plain": [
       "<matplotlib.figure.Figure at 0x10be15e50>"
      ]
     },
     "metadata": {},
     "output_type": "display_data"
    }
   ],
   "source": [
    "plt.plot(np.array(P[:,0]), np.array(P[:,1]),'o', color='red', alpha=0.5)\n",
    "fig = plt.figure(figsize=(8,8))\n",
    "ax = fig.add_subplot(111, projection='3d')\n",
    "plt.rcParams['legend.fontsize'] = 10\n",
    "ax.scatter(np.array(P[:,0]), np.array(P[:,1]), np.array(P[:,2]), 'o', color='red', alpha=0.5)"
   ]
  },
  {
   "cell_type": "markdown",
   "metadata": {},
   "source": [
    "### Problem 5 (15% of credit)\n",
    "For the dataset above select a minimal number of leading principal components necessary to cover at least $90\\%$ of the entire variation and\n",
    "perform multivariate regression of the output variable Y vs those selected components."
   ]
  },
  {
   "cell_type": "code",
   "execution_count": 166,
   "metadata": {
    "collapsed": false
   },
   "outputs": [
    {
     "data": {
      "text/plain": [
       "array([False,  True,  True,  True,  True,  True,  True,  True,  True,  True], dtype=bool)"
      ]
     },
     "execution_count": 166,
     "metadata": {},
     "output_type": "execute_result"
    }
   ],
   "source": [
    "#Checking which P's need to be included in my regression: P1 and P2\n",
    "\n",
    "sc>=.9 "
   ]
  },
  {
   "cell_type": "code",
   "execution_count": 167,
   "metadata": {
    "collapsed": false
   },
   "outputs": [
    {
     "name": "stdout",
     "output_type": "stream",
     "text": [
      "                            OLS Regression Results                            \n",
      "==============================================================================\n",
      "Dep. Variable:                      Y   R-squared:                       0.035\n",
      "Model:                            OLS   Adj. R-squared:                  0.015\n",
      "Method:                 Least Squares   F-statistic:                     1.775\n",
      "Date:                Tue, 13 Oct 2015   Prob (F-statistic):              0.175\n",
      "Time:                        11:15:19   Log-Likelihood:                -281.64\n",
      "No. Observations:                 100   AIC:                             569.3\n",
      "Df Residuals:                      97   BIC:                             577.1\n",
      "Df Model:                           2                                         \n",
      "Covariance Type:            nonrobust                                         \n",
      "==============================================================================\n",
      "                 coef    std err          t      P>|t|      [95.0% Conf. Int.]\n",
      "------------------------------------------------------------------------------\n",
      "Intercept      0.0564      0.412      0.137      0.892        -0.762     0.874\n",
      "P1            -0.0019      0.055     -0.034      0.973        -0.112     0.108\n",
      "P2            -0.5478      0.291     -1.884      0.063        -1.125     0.029\n",
      "==============================================================================\n",
      "Omnibus:                        2.314   Durbin-Watson:                   2.106\n",
      "Prob(Omnibus):                  0.314   Jarque-Bera (JB):                1.753\n",
      "Skew:                           0.193   Prob(JB):                        0.416\n",
      "Kurtosis:                       3.521   Cond. No.                         7.47\n",
      "==============================================================================\n",
      "\n",
      "Warnings:\n",
      "[1] Standard Errors assume that the covariance matrix of the errors is correctly specified.\n"
     ]
    }
   ],
   "source": [
    "dfP=pd.DataFrame(P[:,0:10])\n",
    "dfP.columns=['P1','P2','P3','P4','P5','P6','P7','P8','P9','P10']\n",
    "dfP['Y']=Y.transpose()\n",
    "lm = smf.ols(formula='Y~P1+P2', data = dfP).fit()\n",
    "print(lm.summary())"
   ]
  },
  {
   "cell_type": "code",
   "execution_count": null,
   "metadata": {
    "collapsed": true
   },
   "outputs": [],
   "source": []
  }
 ],
 "metadata": {
  "kernelspec": {
   "display_name": "Python 2",
   "language": "python",
   "name": "python2"
  },
  "language_info": {
   "codemirror_mode": {
    "name": "ipython",
    "version": 2
   },
   "file_extension": ".py",
   "mimetype": "text/x-python",
   "name": "python",
   "nbconvert_exporter": "python",
   "pygments_lexer": "ipython2",
   "version": "2.7.10"
  }
 },
 "nbformat": 4,
 "nbformat_minor": 0
}
