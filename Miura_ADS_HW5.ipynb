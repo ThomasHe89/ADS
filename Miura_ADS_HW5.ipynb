{
 "cells": [
  {
   "cell_type": "markdown",
   "metadata": {},
   "source": [
    "# Homework 5\n"
   ]
  },
  {
   "cell_type": "markdown",
   "metadata": {},
   "source": [
    "### Problem 1 (5% credit). \n",
    "Which of the techniques among logistic regression and k-means clustering are unsupervised learning (select all that applied): \n",
    "a) both;\n",
    "b) k-means clustering, but not the logistic regression;\n",
    "c) logistic regression, but not the k-mean clustering;\n",
    "d) none of them - both are supervised."
   ]
  },
  {
   "cell_type": "markdown",
   "metadata": {},
   "source": [
    "(B) In unsupervised learning, we try to find a hidden structure in unlabeled data, which is the case of k-means. In a logistic regression, we have labeled data, so the learning is supervised."
   ]
  },
  {
   "cell_type": "markdown",
   "metadata": {},
   "source": [
    "### Problem 2 (5% credit). \n",
    "What is the average silhouette measure used for in the k-means clustering (select all that applies):\n",
    "a) determining the percentage of correct cluster definitions over the validation set;\n",
    "b) select the most natural number of clusters for the dataset;\n",
    "c) determining average size of the clusters;\n",
    "d) estimating how more similar on average the elements are to their own clusters vs the most similar neighbor clusters;\n",
    "e) quantifying how distinctive the clusters are."
   ]
  },
  {
   "cell_type": "markdown",
   "metadata": {},
   "source": [
    "(B, D) The silhouette measures how well objects fits within its cluster. If the silhouette of one cluster is much narrower than the rest, that might indicate a poor choice of k. By changing the number of clusters for the dataset, the average size of clusters will change, but that's not the purpose of the silhouette measure."
   ]
  },
  {
   "cell_type": "markdown",
   "metadata": {},
   "source": [
    "### Problem 3 (10% credit).\n",
    "What of the below (select all that apply) is true for the binary classification confusion matrix report:\n",
    "a) it reports sizes of each cluster and number of the clusters;\n",
    "b) it is a square matrix;\n",
    "c) it is symmetrical;\n",
    "d) it has dimensions 2x2;\n",
    "e) it has dimensions 3x3;\n",
    "f) it reports the quality of classification fit over the test set;\n",
    "g) it reports the percentage of correctly classified datapoints over the test set;\n",
    "h) it reports the percentage of incorrectly classified datapoints over the test set;"
   ]
  },
  {
   "cell_type": "markdown",
   "metadata": {},
   "source": [
    "(B, D, F, G, H) The confusion matrix is a 2X2 matrix (hence it is a square one). We can see the quality of the classification fit through all the rates calculated with the occurences of TPs, TNs, FPs and FNs; the % of correctly classified datapoints through the accuracy rate; and the % of inccorectly classified datapoints through the misclassification rate"
   ]
  },
  {
   "cell_type": "code",
   "execution_count": 3,
   "metadata": {
    "collapsed": false
   },
   "outputs": [
    {
     "name": "stdout",
     "output_type": "stream",
     "text": [
      "Populating the interactive namespace from numpy and matplotlib\n"
     ]
    }
   ],
   "source": [
    "import numpy as np\n",
    "import pandas as pd\n",
    "import datetime\n",
    "import matplotlib.pyplot as plt\n",
    "import scipy\n",
    "from scipy import stats\n",
    "%pylab inline\n",
    "from matplotlib import pyplot as plt\n",
    "from mpl_toolkits.mplot3d import Axes3D\n",
    "from mpl_toolkits.mplot3d import proj3d\n",
    "import statsmodels.formula.api as smf\n",
    "from sklearn.cluster import KMeans\n",
    "from sklearn.metrics import silhouette_score"
   ]
  },
  {
   "cell_type": "code",
   "execution_count": 32,
   "metadata": {
    "collapsed": false
   },
   "outputs": [],
   "source": [
    "yt=[1, 1, 0, 0, 1, 0, 1, 0, 1, 1]\n",
    "yc=[1, 0, 1, 0, 1, 0, 1, 0, 1, 0]"
   ]
  },
  {
   "cell_type": "markdown",
   "metadata": {},
   "source": [
    "### Problem 4 (15% credit)\n",
    "For the above binary classification (yc - classified values, yt - true ones) compute and visualize the confusion matrix as well as precision, recall and accuracy"
   ]
  },
  {
   "cell_type": "code",
   "execution_count": 45,
   "metadata": {
    "collapsed": false
   },
   "outputs": [],
   "source": [
    "yt_array = np.asarray(yt)\n",
    "yc_array = np.asarray(yc)\n",
    "\n",
    "#compute TP,FP,FN,TN for the above classification\n",
    "TP=sum((yc_array==1)&(yt_array==1))\n",
    "FP=sum((yc_array==1)&(yt_array==0))\n",
    "FN=sum((yc_array==0)&(yt_array==1))\n",
    "TN=sum((yc_array==0)&(yt_array==0))"
   ]
  },
  {
   "cell_type": "code",
   "execution_count": 46,
   "metadata": {
    "collapsed": false
   },
   "outputs": [
    {
     "name": "stdout",
     "output_type": "stream",
     "text": [
      "Precision=80.0, Accuracy=70.0, Recall=66.6666666667\n"
     ]
    }
   ],
   "source": [
    "#compute precision, accuracy and recall\n",
    "ACC=100.0*(TP+TN)/(TP+TN+FP+FN)\n",
    "Recall=100.0*TP/(TP+FN)\n",
    "Prec=100.0*TP/(TP+FP)\n",
    "print('Precision={0}, Accuracy={1}, Recall={2}'.format(Prec,ACC,Recall))"
   ]
  },
  {
   "cell_type": "code",
   "execution_count": 47,
   "metadata": {
    "collapsed": true
   },
   "outputs": [],
   "source": [
    "data = pd.read_csv( 'https://serv.cusp.nyu.edu/files/ADS-2015/MorningSection/lab5/H51.csv' , index_col=0 )"
   ]
  },
  {
   "cell_type": "markdown",
   "metadata": {},
   "source": [
    "### Problem 5a (15% credit). \n",
    "For the data above define the clustering into 3 clusters using the best outcome of k-means, being run 100 times"
   ]
  },
  {
   "cell_type": "code",
   "execution_count": 48,
   "metadata": {
    "collapsed": false
   },
   "outputs": [
    {
     "data": {
      "text/html": [
       "<div>\n",
       "<table border=\"1\" class=\"dataframe\">\n",
       "  <thead>\n",
       "    <tr style=\"text-align: right;\">\n",
       "      <th></th>\n",
       "      <th>x1</th>\n",
       "      <th>x2</th>\n",
       "    </tr>\n",
       "  </thead>\n",
       "  <tbody>\n",
       "    <tr>\n",
       "      <th>0</th>\n",
       "      <td>3.554228</td>\n",
       "      <td>7.435315</td>\n",
       "    </tr>\n",
       "    <tr>\n",
       "      <th>1</th>\n",
       "      <td>3.710305</td>\n",
       "      <td>7.464536</td>\n",
       "    </tr>\n",
       "    <tr>\n",
       "      <th>2</th>\n",
       "      <td>2.629357</td>\n",
       "      <td>7.513200</td>\n",
       "    </tr>\n",
       "    <tr>\n",
       "      <th>3</th>\n",
       "      <td>5.429580</td>\n",
       "      <td>8.682926</td>\n",
       "    </tr>\n",
       "    <tr>\n",
       "      <th>4</th>\n",
       "      <td>2.354003</td>\n",
       "      <td>6.311812</td>\n",
       "    </tr>\n",
       "  </tbody>\n",
       "</table>\n",
       "</div>"
      ],
      "text/plain": [
       "         x1        x2\n",
       "0  3.554228  7.435315\n",
       "1  3.710305  7.464536\n",
       "2  2.629357  7.513200\n",
       "3  5.429580  8.682926\n",
       "4  2.354003  6.311812"
      ]
     },
     "execution_count": 48,
     "metadata": {},
     "output_type": "execute_result"
    }
   ],
   "source": [
    "data.head()"
   ]
  },
  {
   "cell_type": "code",
   "execution_count": 49,
   "metadata": {
    "collapsed": false
   },
   "outputs": [
    {
     "data": {
      "text/plain": [
       "<matplotlib.collections.PathCollection at 0x10e0b5590>"
      ]
     },
     "execution_count": 49,
     "metadata": {},
     "output_type": "execute_result"
    },
    {
     "data": {
      "image/png": "[encoded data removed]",
      "text/plain": [
       "<matplotlib.figure.Figure at 0x1080296d0>"
      ]
     },
     "metadata": {},
     "output_type": "display_data"
    }
   ],
   "source": [
    "X=np.append(data.x1,data.x2).reshape(2,100).transpose()\n",
    "# try clustering with k=3\n",
    "est=KMeans(n_clusters=3,n_init=100)\n",
    "est.fit(X)\n",
    "labels=est.labels_\n",
    "plt.figure(figsize=(6,4))\n",
    "plt.scatter (data.x1,data.x2,s=30,c=labels.astype(np.float),lw=0)"
   ]
  },
  {
   "cell_type": "markdown",
   "metadata": {
    "collapsed": true
   },
   "source": [
    "### Problem 5b (20% credit). \n",
    "For the data above perfrom k-means clustering for k=2..10, compute and visualize the average Silhouette score, select and visualize the clustering for that k, which maximizes average Silhouette score"
   ]
  },
  {
   "cell_type": "code",
   "execution_count": 50,
   "metadata": {
    "collapsed": false
   },
   "outputs": [
    {
     "name": "stdout",
     "output_type": "stream",
     "text": [
      "2 clusters: 0.617394854445\n",
      "3 clusters: 0.602936597638\n",
      "4 clusters: 0.610330721715\n",
      "5 clusters: 0.640564751447\n",
      "6 clusters: 0.543238310637\n",
      "7 clusters: 0.504150540427\n",
      "8 clusters: 0.397895960988\n",
      "9 clusters: 0.399880799241\n",
      "10 clusters: 0.410430495022\n",
      "11 clusters: 0.417995519195\n",
      "Best for 5 clusters: 0.640564751447\n"
     ]
    },
    {
     "data": {
      "text/plain": [
       "<matplotlib.collections.PathCollection at 0x10e13ee10>"
      ]
     },
     "execution_count": 50,
     "metadata": {},
     "output_type": "execute_result"
    },
    {
     "data": {
      "image/png": "[encoded data removed]",
      "text/plain": [
       "<matplotlib.figure.Figure at 0x10d648210>"
      ]
     },
     "metadata": {},
     "output_type": "display_data"
    },
    {
     "data": {
      "image/png": "[encoded data removed]",
      "text/plain": [
       "<matplotlib.figure.Figure at 0x10e1f9cd0>"
      ]
     },
     "metadata": {},
     "output_type": "display_data"
    }
   ],
   "source": [
    "s=[0]*10\n",
    "for k in range(0,10):\n",
    "    est=KMeans(n_clusters=k+2,n_init=25)\n",
    "    est.fit(X)\n",
    "    s[k]=silhouette_score(X, est.labels_)\n",
    "    print('{0} clusters: {1}'.format(k+2,s[k]))\n",
    "k=np.argmax(s)    \n",
    "est=KMeans(n_clusters=k+2,n_init=100)\n",
    "est.fit(X)\n",
    "labels=est.labels_\n",
    "plt.figure()\n",
    "plt.bar(range(2,12),s)\n",
    "plt.xlabel('k')\n",
    "plt.ylabel('S')\n",
    "plt.title('Avg Silhouette vs k')\n",
    "print('Best for {0} clusters: {1}'.format(k+2,silhouette_score(X, labels)))\n",
    "plt.figure()\n",
    "plt.scatter (data.x1,data.x2,s=30,c=labels.astype(np.float),lw=0)"
   ]
  },
  {
   "cell_type": "code",
   "execution_count": 51,
   "metadata": {
    "collapsed": false
   },
   "outputs": [],
   "source": [
    "data2training = pd.read_csv( 'https://serv.cusp.nyu.edu/files/ADS-2015/MorningSection/lab5/H52train.csv' , index_col=0 )\n",
    "data2test = pd.read_csv( 'https://serv.cusp.nyu.edu/files/ADS-2015/MorningSection/lab5/H52test.csv' , index_col=0 )"
   ]
  },
  {
   "cell_type": "markdown",
   "metadata": {
    "collapsed": true
   },
   "source": [
    "### Problem 6a (15% credit) \n",
    "For the second dataset above train the logistic regression over the provided training set, report the summary with coeffieints, fit and statistics."
   ]
  },
  {
   "cell_type": "code",
   "execution_count": 52,
   "metadata": {
    "collapsed": false
   },
   "outputs": [
    {
     "data": {
      "text/html": [
       "<div>\n",
       "<table border=\"1\" class=\"dataframe\">\n",
       "  <thead>\n",
       "    <tr style=\"text-align: right;\">\n",
       "      <th></th>\n",
       "      <th>x1</th>\n",
       "      <th>x2</th>\n",
       "      <th>y</th>\n",
       "    </tr>\n",
       "  </thead>\n",
       "  <tbody>\n",
       "    <tr>\n",
       "      <th>0</th>\n",
       "      <td>1.103418</td>\n",
       "      <td>5.160703</td>\n",
       "      <td>0</td>\n",
       "    </tr>\n",
       "    <tr>\n",
       "      <th>1</th>\n",
       "      <td>0.754804</td>\n",
       "      <td>5.846008</td>\n",
       "      <td>0</td>\n",
       "    </tr>\n",
       "    <tr>\n",
       "      <th>2</th>\n",
       "      <td>-1.651331</td>\n",
       "      <td>7.416112</td>\n",
       "      <td>0</td>\n",
       "    </tr>\n",
       "    <tr>\n",
       "      <th>3</th>\n",
       "      <td>-2.502233</td>\n",
       "      <td>7.799007</td>\n",
       "      <td>0</td>\n",
       "    </tr>\n",
       "    <tr>\n",
       "      <th>4</th>\n",
       "      <td>-0.183246</td>\n",
       "      <td>9.076321</td>\n",
       "      <td>0</td>\n",
       "    </tr>\n",
       "  </tbody>\n",
       "</table>\n",
       "</div>"
      ],
      "text/plain": [
       "         x1        x2  y\n",
       "0  1.103418  5.160703  0\n",
       "1  0.754804  5.846008  0\n",
       "2 -1.651331  7.416112  0\n",
       "3 -2.502233  7.799007  0\n",
       "4 -0.183246  9.076321  0"
      ]
     },
     "execution_count": 52,
     "metadata": {},
     "output_type": "execute_result"
    }
   ],
   "source": [
    "data2training.head()"
   ]
  },
  {
   "cell_type": "code",
   "execution_count": 53,
   "metadata": {
    "collapsed": false
   },
   "outputs": [
    {
     "name": "stdout",
     "output_type": "stream",
     "text": [
      "Optimization terminated successfully.\n",
      "         Current function value: 0.200402\n",
      "         Iterations 8\n",
      "                           Logit Regression Results                           \n",
      "==============================================================================\n",
      "Dep. Variable:                      y   No. Observations:                  100\n",
      "Model:                          Logit   Df Residuals:                       97\n",
      "Method:                           MLE   Df Model:                            2\n",
      "Date:                Sat, 17 Oct 2015   Pseudo R-squ.:                  0.6982\n",
      "Time:                        15:34:50   Log-Likelihood:                -20.040\n",
      "converged:                       True   LL-Null:                       -66.406\n",
      "                                        LLR p-value:                 7.301e-21\n",
      "==============================================================================\n",
      "                 coef    std err          z      P>|z|      [95.0% Conf. Int.]\n",
      "------------------------------------------------------------------------------\n",
      "Intercept     -0.5540      0.924     -0.600      0.549        -2.364     1.256\n",
      "x1             0.7219      0.186      3.871      0.000         0.356     1.087\n",
      "x2            -0.6982      0.203     -3.441      0.001        -1.096    -0.300\n",
      "==============================================================================\n"
     ]
    },
    {
     "data": {
      "image/png": "[encoded data removed]",
      "text/plain": [
       "<matplotlib.figure.Figure at 0x108bde650>"
      ]
     },
     "metadata": {},
     "output_type": "display_data"
    }
   ],
   "source": [
    "#learn logistic regression over the training sample\n",
    "logit = smf.logit('y ~ x1 + x2', data = data2training).fit()\n",
    "#apply to the validation sample\n",
    "le=logit.predict(data2test)\n",
    "#visualize the probabilities\n",
    "plt.figure()\n",
    "plt.scatter(data2test.x1,data2test.x2,c=le,s=30,lw=0,cmap='cool')\n",
    "print logit.summary()"
   ]
  },
  {
   "cell_type": "markdown",
   "metadata": {
    "collapsed": true
   },
   "source": [
    "### Problem 6b (15% credit). \n",
    "For the second dataset and logistic regression above define the true and false positives/negatives over the validation set and visualize the classification through logit vs the true one."
   ]
  },
  {
   "cell_type": "code",
   "execution_count": 54,
   "metadata": {
    "collapsed": false
   },
   "outputs": [
    {
     "data": {
      "text/plain": [
       "<matplotlib.collections.PathCollection at 0x10e65f3d0>"
      ]
     },
     "execution_count": 54,
     "metadata": {},
     "output_type": "execute_result"
    },
    {
     "data": {
      "image/png": "[encoded data removed]",
      "text/plain": [
       "<matplotlib.figure.Figure at 0x10e4df9d0>"
      ]
     },
     "metadata": {},
     "output_type": "display_data"
    },
    {
     "data": {
      "image/png": "[encoded data removed]",
      "text/plain": [
       "<matplotlib.figure.Figure at 0x10e4442d0>"
      ]
     },
     "metadata": {},
     "output_type": "display_data"
    }
   ],
   "source": [
    "#visualize the classification\n",
    "le=le>0.5\n",
    "plt.figure()\n",
    "plt.scatter(data2test.x1,data2test.x2,c=le,s=30,lw=0)\n",
    "#visualize the \"true\" test classification\n",
    "plt.figure()\n",
    "plt.scatter(data2test.x1,data2test.x2,c=data2test.y,s=30,lw=0)"
   ]
  },
  {
   "cell_type": "code",
   "execution_count": null,
   "metadata": {
    "collapsed": true
   },
   "outputs": [],
   "source": []
  }
 ],
 "metadata": {
  "kernelspec": {
   "display_name": "Python 2",
   "language": "python",
   "name": "python2"
  },
  "language_info": {
   "codemirror_mode": {
    "name": "ipython",
    "version": 2
   },
   "file_extension": ".py",
   "mimetype": "text/x-python",
   "name": "python",
   "nbconvert_exporter": "python",
   "pygments_lexer": "ipython2",
   "version": "2.7.10"
  }
 },
 "nbformat": 4,
 "nbformat_minor": 0
}
